{
 "cells": [
  {
   "cell_type": "code",
   "execution_count": 30,
   "metadata": {},
   "outputs": [],
   "source": [
    "import spikespy\n",
    "from neo.io import NixIO\n",
    "from neo import Block"
   ]
  },
  {
   "cell_type": "code",
   "execution_count": 2,
   "metadata": {},
   "outputs": [],
   "source": [
    "from spikespy.APTrack_experiment_import import process_folder, APTrackRecording, as_neo"
   ]
  },
  {
   "cell_type": "code",
   "execution_count": 3,
   "metadata": {},
   "outputs": [],
   "source": [
    "from pathlib import Path"
   ]
  },
  {
   "cell_type": "code",
   "execution_count": 4,
   "metadata": {},
   "outputs": [],
   "source": [
    "folders = sorted(list(Path(\"/mnt/rdsf/open-ephys\").glob(\"2022*\")))"
   ]
  },
  {
   "cell_type": "code",
   "execution_count": 5,
   "metadata": {},
   "outputs": [
    {
     "data": {
      "text/plain": [
       "[PosixPath('/mnt/rdsf/open-ephys/2022-04-04_09-53-19'),\n",
       " PosixPath('/mnt/rdsf/open-ephys/2022-04-05_11-28-08'),\n",
       " PosixPath('/mnt/rdsf/open-ephys/2022-04-06_14-02-33'),\n",
       " PosixPath('/mnt/rdsf/open-ephys/2022-07-12_12-52-05'),\n",
       " PosixPath('/mnt/rdsf/open-ephys/2022-07-12_16-38-54'),\n",
       " PosixPath('/mnt/rdsf/open-ephys/2022-07-13_12-22-28'),\n",
       " PosixPath('/mnt/rdsf/open-ephys/2022-08-16_14-39-21'),\n",
       " PosixPath('/mnt/rdsf/open-ephys/2022-08-17_11-11-17'),\n",
       " PosixPath('/mnt/rdsf/open-ephys/2022-10-17_11-51-18'),\n",
       " PosixPath('/mnt/rdsf/open-ephys/2022-10-18_11-00-00'),\n",
       " PosixPath('/mnt/rdsf/open-ephys/2022-10-18_14-14-26'),\n",
       " PosixPath('/mnt/rdsf/open-ephys/2022-10-18_14.h5'),\n",
       " PosixPath('/mnt/rdsf/open-ephys/2022-11-07_15-30-40'),\n",
       " PosixPath('/mnt/rdsf/open-ephys/2022-11-07_15-36-33'),\n",
       " PosixPath('/mnt/rdsf/open-ephys/2022-11-22_12-19-51'),\n",
       " PosixPath('/mnt/rdsf/open-ephys/2022-11-23'),\n",
       " PosixPath('/mnt/rdsf/open-ephys/2022-12-05_11-52-29'),\n",
       " PosixPath('/mnt/rdsf/open-ephys/2022-12-06_12-13-23')]"
      ]
     },
     "execution_count": 5,
     "metadata": {},
     "output_type": "execute_result"
    }
   ],
   "source": [
    "folders"
   ]
  },
  {
   "cell_type": "code",
   "execution_count": 6,
   "metadata": {},
   "outputs": [],
   "source": [
    "unprocess_folders = [x for x in folders if x.is_dir() and len(list(x.glob(\"*.h5\"))) == 0] "
   ]
  },
  {
   "cell_type": "code",
   "execution_count": 7,
   "metadata": {},
   "outputs": [
    {
     "data": {
      "text/plain": [
       "[PosixPath('/mnt/rdsf/open-ephys/2022-04-05_11-28-08'),\n",
       " PosixPath('/mnt/rdsf/open-ephys/2022-04-06_14-02-33'),\n",
       " PosixPath('/mnt/rdsf/open-ephys/2022-07-12_12-52-05'),\n",
       " PosixPath('/mnt/rdsf/open-ephys/2022-07-12_16-38-54'),\n",
       " PosixPath('/mnt/rdsf/open-ephys/2022-07-13_12-22-28'),\n",
       " PosixPath('/mnt/rdsf/open-ephys/2022-10-18_11-00-00'),\n",
       " PosixPath('/mnt/rdsf/open-ephys/2022-11-07_15-30-40'),\n",
       " PosixPath('/mnt/rdsf/open-ephys/2022-11-07_15-36-33'),\n",
       " PosixPath('/mnt/rdsf/open-ephys/2022-12-05_11-52-29')]"
      ]
     },
     "execution_count": 7,
     "metadata": {},
     "output_type": "execute_result"
    }
   ],
   "source": [
    "unprocess_folders"
   ]
  },
  {
   "attachments": {},
   "cell_type": "markdown",
   "metadata": {},
   "source": [
    "## 2022-04-04_09-53-19"
   ]
  },
  {
   "cell_type": "code",
   "execution_count": 8,
   "metadata": {},
   "outputs": [
    {
     "data": {
      "text/plain": [
       "[PosixPath('/mnt/rdsf/open-ephys/2022-04-04_09-53-19/2022-04-04_09-53-19.h5'),\n",
       " PosixPath('/mnt/rdsf/open-ephys/2022-04-04_09-53-19/IMG_20220404_143945.jpg'),\n",
       " PosixPath('/mnt/rdsf/open-ephys/2022-04-04_09-53-19/open-ephys.app'),\n",
       " PosixPath('/mnt/rdsf/open-ephys/2022-04-04_09-53-19/2022_04_04_Latency_plots.jpg'),\n",
       " PosixPath('/mnt/rdsf/open-ephys/2022-04-04_09-53-19/IMG_20220404_143942.jpg'),\n",
       " PosixPath('/mnt/rdsf/open-ephys/2022-04-04_09-53-19/Excitability_tracking_2022_04_04.m'),\n",
       " PosixPath('/mnt/rdsf/open-ephys/2022-04-04_09-53-19/IMG_20220404_143954.jpg'),\n",
       " PosixPath('/mnt/rdsf/open-ephys/2022-04-04_09-53-19/IMG_20220404_144010.jpg'),\n",
       " PosixPath('/mnt/rdsf/open-ephys/2022-04-04_09-53-19/04-Apr-22'),\n",
       " PosixPath('/mnt/rdsf/open-ephys/2022-04-04_09-53-19/.DS_Store'),\n",
       " PosixPath('/mnt/rdsf/open-ephys/2022-04-04_09-53-19/IMG_20220404_143951.jpg'),\n",
       " PosixPath('/mnt/rdsf/open-ephys/2022-04-04_09-53-19/IMG_20220404_144005.jpg'),\n",
       " PosixPath('/mnt/rdsf/open-ephys/2022-04-04_09-53-19/Record Node 112'),\n",
       " PosixPath('/mnt/rdsf/open-ephys/2022-04-04_09-53-19/2022_04_04_Latency_plots.fig'),\n",
       " PosixPath('/mnt/rdsf/open-ephys/2022-04-04_09-53-19/Excitability_tracking_2022_04_04_v2.m'),\n",
       " PosixPath('/mnt/rdsf/open-ephys/2022-04-04_09-53-19/Record Node 111')]"
      ]
     },
     "execution_count": 8,
     "metadata": {},
     "output_type": "execute_result"
    }
   ],
   "source": [
    "fol = Path('/mnt/rdsf/open-ephys/2022-04-04_09-53-19')\n",
    "list(fol.glob(\"*\"))"
   ]
  },
  {
   "cell_type": "code",
   "execution_count": 9,
   "metadata": {},
   "outputs": [
    {
     "data": {
      "text/plain": [
       "[PosixPath('/mnt/rdsf/open-ephys/2022-04-04_09-53-19/Record Node 112/110_22.continuous'),\n",
       " PosixPath('/mnt/rdsf/open-ephys/2022-04-04_09-53-19/Record Node 112/110_1.continuous'),\n",
       " PosixPath('/mnt/rdsf/open-ephys/2022-04-04_09-53-19/Record Node 112/110_4_3.continuous'),\n",
       " PosixPath('/mnt/rdsf/open-ephys/2022-04-04_09-53-19/Record Node 112/settings_2.xml'),\n",
       " PosixPath('/mnt/rdsf/open-ephys/2022-04-04_09-53-19/Record Node 112/110_16.continuous'),\n",
       " PosixPath('/mnt/rdsf/open-ephys/2022-04-04_09-53-19/Record Node 112/110_9_2.continuous'),\n",
       " PosixPath('/mnt/rdsf/open-ephys/2022-04-04_09-53-19/Record Node 112/110_22_2.continuous'),\n",
       " PosixPath('/mnt/rdsf/open-ephys/2022-04-04_09-53-19/Record Node 112/settings.xml'),\n",
       " PosixPath('/mnt/rdsf/open-ephys/2022-04-04_09-53-19/Record Node 112/110_1_2.continuous'),\n",
       " PosixPath('/mnt/rdsf/open-ephys/2022-04-04_09-53-19/Record Node 112/110_23_2.continuous'),\n",
       " PosixPath('/mnt/rdsf/open-ephys/2022-04-04_09-53-19/Record Node 112/110_24_2.continuous'),\n",
       " PosixPath('/mnt/rdsf/open-ephys/2022-04-04_09-53-19/Record Node 112/110_7_3.continuous'),\n",
       " PosixPath('/mnt/rdsf/open-ephys/2022-04-04_09-53-19/Record Node 112/110_17_3.continuous'),\n",
       " PosixPath('/mnt/rdsf/open-ephys/2022-04-04_09-53-19/Record Node 112/110_15_2.continuous'),\n",
       " PosixPath('/mnt/rdsf/open-ephys/2022-04-04_09-53-19/Record Node 112/110_14.continuous'),\n",
       " PosixPath('/mnt/rdsf/open-ephys/2022-04-04_09-53-19/Record Node 112/110_4.continuous'),\n",
       " PosixPath('/mnt/rdsf/open-ephys/2022-04-04_09-53-19/Record Node 112/110_12.continuous'),\n",
       " PosixPath('/mnt/rdsf/open-ephys/2022-04-04_09-53-19/Record Node 112/110_11_3.continuous'),\n",
       " PosixPath('/mnt/rdsf/open-ephys/2022-04-04_09-53-19/Record Node 112/110_9.continuous'),\n",
       " PosixPath('/mnt/rdsf/open-ephys/2022-04-04_09-53-19/Record Node 112/110_15_3.continuous'),\n",
       " PosixPath('/mnt/rdsf/open-ephys/2022-04-04_09-53-19/Record Node 112/110_6_2.continuous'),\n",
       " PosixPath('/mnt/rdsf/open-ephys/2022-04-04_09-53-19/Record Node 112/messages_3.events'),\n",
       " PosixPath('/mnt/rdsf/open-ephys/2022-04-04_09-53-19/Record Node 112/110_7.continuous'),\n",
       " PosixPath('/mnt/rdsf/open-ephys/2022-04-04_09-53-19/Record Node 112/all_channels_2.events'),\n",
       " PosixPath('/mnt/rdsf/open-ephys/2022-04-04_09-53-19/Record Node 112/110_11.continuous'),\n",
       " PosixPath('/mnt/rdsf/open-ephys/2022-04-04_09-53-19/Record Node 112/all_channels_3.events'),\n",
       " PosixPath('/mnt/rdsf/open-ephys/2022-04-04_09-53-19/Record Node 112/110_14_3.continuous'),\n",
       " PosixPath('/mnt/rdsf/open-ephys/2022-04-04_09-53-19/Record Node 112/110_24.continuous'),\n",
       " PosixPath('/mnt/rdsf/open-ephys/2022-04-04_09-53-19/Record Node 112/110_10_2.continuous'),\n",
       " PosixPath('/mnt/rdsf/open-ephys/2022-04-04_09-53-19/Record Node 112/all_channels.events'),\n",
       " PosixPath('/mnt/rdsf/open-ephys/2022-04-04_09-53-19/Record Node 112/110_12_2.continuous'),\n",
       " PosixPath('/mnt/rdsf/open-ephys/2022-04-04_09-53-19/Record Node 112/Continuous_Data_2.openephys'),\n",
       " PosixPath('/mnt/rdsf/open-ephys/2022-04-04_09-53-19/Record Node 112/110_8_2.continuous'),\n",
       " PosixPath('/mnt/rdsf/open-ephys/2022-04-04_09-53-19/Record Node 112/110_14_2.continuous'),\n",
       " PosixPath('/mnt/rdsf/open-ephys/2022-04-04_09-53-19/Record Node 112/110_1_3.continuous'),\n",
       " PosixPath('/mnt/rdsf/open-ephys/2022-04-04_09-53-19/Record Node 112/110_18_2.continuous'),\n",
       " PosixPath('/mnt/rdsf/open-ephys/2022-04-04_09-53-19/Record Node 112/110_13.continuous'),\n",
       " PosixPath('/mnt/rdsf/open-ephys/2022-04-04_09-53-19/Record Node 112/110_6.continuous'),\n",
       " PosixPath('/mnt/rdsf/open-ephys/2022-04-04_09-53-19/Record Node 112/110_2_3.continuous'),\n",
       " PosixPath('/mnt/rdsf/open-ephys/2022-04-04_09-53-19/Record Node 112/110_6_3.continuous'),\n",
       " PosixPath('/mnt/rdsf/open-ephys/2022-04-04_09-53-19/Record Node 112/messages.events'),\n",
       " PosixPath('/mnt/rdsf/open-ephys/2022-04-04_09-53-19/Record Node 112/settings_3.xml'),\n",
       " PosixPath('/mnt/rdsf/open-ephys/2022-04-04_09-53-19/Record Node 112/110_23_3.continuous'),\n",
       " PosixPath('/mnt/rdsf/open-ephys/2022-04-04_09-53-19/Record Node 112/110_3_3.continuous'),\n",
       " PosixPath('/mnt/rdsf/open-ephys/2022-04-04_09-53-19/Record Node 112/110_18_3.continuous'),\n",
       " PosixPath('/mnt/rdsf/open-ephys/2022-04-04_09-53-19/Record Node 112/Continuous_Data.openephys'),\n",
       " PosixPath('/mnt/rdsf/open-ephys/2022-04-04_09-53-19/Record Node 112/110_16_3.continuous'),\n",
       " PosixPath('/mnt/rdsf/open-ephys/2022-04-04_09-53-19/Record Node 112/110_8_3.continuous'),\n",
       " PosixPath('/mnt/rdsf/open-ephys/2022-04-04_09-53-19/Record Node 112/110_20.continuous'),\n",
       " PosixPath('/mnt/rdsf/open-ephys/2022-04-04_09-53-19/Record Node 112/110_2_2.continuous'),\n",
       " PosixPath('/mnt/rdsf/open-ephys/2022-04-04_09-53-19/Record Node 112/110_16_2.continuous'),\n",
       " PosixPath('/mnt/rdsf/open-ephys/2022-04-04_09-53-19/Record Node 112/110_5.continuous'),\n",
       " PosixPath('/mnt/rdsf/open-ephys/2022-04-04_09-53-19/Record Node 112/110_21_3.continuous'),\n",
       " PosixPath('/mnt/rdsf/open-ephys/2022-04-04_09-53-19/Record Node 112/110_21_2.continuous'),\n",
       " PosixPath('/mnt/rdsf/open-ephys/2022-04-04_09-53-19/Record Node 112/110_15.continuous'),\n",
       " PosixPath('/mnt/rdsf/open-ephys/2022-04-04_09-53-19/Record Node 112/110_21.continuous'),\n",
       " PosixPath('/mnt/rdsf/open-ephys/2022-04-04_09-53-19/Record Node 112/110_22_3.continuous'),\n",
       " PosixPath('/mnt/rdsf/open-ephys/2022-04-04_09-53-19/Record Node 112/110_13_3.continuous'),\n",
       " PosixPath('/mnt/rdsf/open-ephys/2022-04-04_09-53-19/Record Node 112/110_23.continuous'),\n",
       " PosixPath('/mnt/rdsf/open-ephys/2022-04-04_09-53-19/Record Node 112/110_8.continuous'),\n",
       " PosixPath('/mnt/rdsf/open-ephys/2022-04-04_09-53-19/Record Node 112/110_18.continuous'),\n",
       " PosixPath('/mnt/rdsf/open-ephys/2022-04-04_09-53-19/Record Node 112/110_19_3.continuous'),\n",
       " PosixPath('/mnt/rdsf/open-ephys/2022-04-04_09-53-19/Record Node 112/110_12_3.continuous'),\n",
       " PosixPath('/mnt/rdsf/open-ephys/2022-04-04_09-53-19/Record Node 112/110_3_2.continuous'),\n",
       " PosixPath('/mnt/rdsf/open-ephys/2022-04-04_09-53-19/Record Node 112/110_9_3.continuous'),\n",
       " PosixPath('/mnt/rdsf/open-ephys/2022-04-04_09-53-19/Record Node 112/Continuous_Data_3.openephys'),\n",
       " PosixPath('/mnt/rdsf/open-ephys/2022-04-04_09-53-19/Record Node 112/110_19.continuous'),\n",
       " PosixPath('/mnt/rdsf/open-ephys/2022-04-04_09-53-19/Record Node 112/110_10_3.continuous'),\n",
       " PosixPath('/mnt/rdsf/open-ephys/2022-04-04_09-53-19/Record Node 112/messages_2.events'),\n",
       " PosixPath('/mnt/rdsf/open-ephys/2022-04-04_09-53-19/Record Node 112/110_10.continuous'),\n",
       " PosixPath('/mnt/rdsf/open-ephys/2022-04-04_09-53-19/Record Node 112/110_7_2.continuous'),\n",
       " PosixPath('/mnt/rdsf/open-ephys/2022-04-04_09-53-19/Record Node 112/110_20_2.continuous'),\n",
       " PosixPath('/mnt/rdsf/open-ephys/2022-04-04_09-53-19/Record Node 112/110_13_2.continuous'),\n",
       " PosixPath('/mnt/rdsf/open-ephys/2022-04-04_09-53-19/Record Node 112/110_17.continuous'),\n",
       " PosixPath('/mnt/rdsf/open-ephys/2022-04-04_09-53-19/Record Node 112/110_3.continuous'),\n",
       " PosixPath('/mnt/rdsf/open-ephys/2022-04-04_09-53-19/Record Node 112/110_24_3.continuous'),\n",
       " PosixPath('/mnt/rdsf/open-ephys/2022-04-04_09-53-19/Record Node 112/110_2.continuous'),\n",
       " PosixPath('/mnt/rdsf/open-ephys/2022-04-04_09-53-19/Record Node 112/110_11_2.continuous'),\n",
       " PosixPath('/mnt/rdsf/open-ephys/2022-04-04_09-53-19/Record Node 112/110_19_2.continuous'),\n",
       " PosixPath('/mnt/rdsf/open-ephys/2022-04-04_09-53-19/Record Node 112/110_5_3.continuous'),\n",
       " PosixPath('/mnt/rdsf/open-ephys/2022-04-04_09-53-19/Record Node 112/110_17_2.continuous'),\n",
       " PosixPath('/mnt/rdsf/open-ephys/2022-04-04_09-53-19/Record Node 112/110_5_2.continuous'),\n",
       " PosixPath('/mnt/rdsf/open-ephys/2022-04-04_09-53-19/Record Node 112/110_20_3.continuous'),\n",
       " PosixPath('/mnt/rdsf/open-ephys/2022-04-04_09-53-19/Record Node 112/110_4_2.continuous')]"
      ]
     },
     "execution_count": 9,
     "metadata": {},
     "output_type": "execute_result"
    }
   ],
   "source": [
    "node_folder =fol/\"Record Node 112\"\n",
    "list(node_folder.glob(\"*\"))"
   ]
  },
  {
   "attachments": {},
   "cell_type": "markdown",
   "metadata": {},
   "source": [
    "there are 3 recordings here. well lets just look\n",
    "1. is 3 seconds long\n",
    "2. had a short period of data"
   ]
  },
  {
   "cell_type": "code",
   "execution_count": 10,
   "metadata": {},
   "outputs": [
    {
     "name": "stderr",
     "output_type": "stream",
     "text": [
      "WARNING:root:did not parse log line: Software time: 40319@1000000000Hz\n",
      "WARNING:root:did not parse log line: Processor: Rhythm FPGA Id: 110 subProcessor: 0 start time: 40448@30000Hz\n"
     ]
    }
   ],
   "source": [
    "\n",
    "test = process_folder(node_folder,3)"
   ]
  },
  {
   "cell_type": "code",
   "execution_count": 11,
   "metadata": {},
   "outputs": [
    {
     "data": {
      "text/plain": [
       "2908"
      ]
     },
     "execution_count": 11,
     "metadata": {},
     "output_type": "execute_result"
    }
   ],
   "source": [
    "len(test.events[1])"
   ]
  },
  {
   "attachments": {},
   "cell_type": "markdown",
   "metadata": {},
   "source": [
    "looks good, save to disk"
   ]
  },
  {
   "cell_type": "code",
   "execution_count": 12,
   "metadata": {},
   "outputs": [],
   "source": [
    "from neo.io import NixIO\n",
    "from neo import Block\n",
    "blk = Block()\n",
    "from copy import deepcopy\n",
    "#test2 = deepcopy(test)\n",
    "#test2.analogsignals = [x.rescale(\"mV\") for x in test.analogsignals]\n",
    "blk.segments.append(test)\n",
    "n = NixIO(fol/(fol.stem+\".h5\"), mode=\"rw\")\n",
    "n.write_block(blk)\n",
    "n.close()"
   ]
  },
  {
   "attachments": {},
   "cell_type": "markdown",
   "metadata": {},
   "source": [
    "# /mnt/rdsf/open-ephys/2022-12-05_11-52-29"
   ]
  },
  {
   "cell_type": "code",
   "execution_count": 39,
   "metadata": {},
   "outputs": [
    {
     "data": {
      "text/plain": [
       "[PosixPath('/mnt/rdsf/open-ephys/2022-12-05_11-52-29/2022_12_05_Follow_up_Qs_v2.xlsx'),\n",
       " PosixPath('/mnt/rdsf/open-ephys/2022-12-05_11-52-29/~$2022_12_05_Follow_up_Qs_v2.xlsx'),\n",
       " PosixPath('/mnt/rdsf/open-ephys/2022-12-05_11-52-29/2022_12.xml'),\n",
       " PosixPath('/mnt/rdsf/open-ephys/2022-12-05_11-52-29/open-ephys0.5.2.2.app'),\n",
       " PosixPath('/mnt/rdsf/open-ephys/2022-12-05_11-52-29/.DS_Store'),\n",
       " PosixPath('/mnt/rdsf/open-ephys/2022-12-05_11-52-29/Record Node 104')]"
      ]
     },
     "execution_count": 39,
     "metadata": {},
     "output_type": "execute_result"
    }
   ],
   "source": [
    "fol = Path(\"/mnt/rdsf/open-ephys/2022-12-05_11-52-29\")\n",
    "list(fol.glob(\"*\"))"
   ]
  },
  {
   "cell_type": "code",
   "execution_count": 41,
   "metadata": {},
   "outputs": [
    {
     "data": {
      "text/plain": [
       "[PosixPath('/mnt/rdsf/open-ephys/2022-12-05_11-52-29/Record Node 104/settings.xml'),\n",
       " PosixPath('/mnt/rdsf/open-ephys/2022-12-05_11-52-29/Record Node 104/100_20.continuous'),\n",
       " PosixPath('/mnt/rdsf/open-ephys/2022-12-05_11-52-29/Record Node 104/100_4.continuous'),\n",
       " PosixPath('/mnt/rdsf/open-ephys/2022-12-05_11-52-29/Record Node 104/100_24.continuous'),\n",
       " PosixPath('/mnt/rdsf/open-ephys/2022-12-05_11-52-29/Record Node 104/100_19.continuous'),\n",
       " PosixPath('/mnt/rdsf/open-ephys/2022-12-05_11-52-29/Record Node 104/experiment1'),\n",
       " PosixPath('/mnt/rdsf/open-ephys/2022-12-05_11-52-29/Record Node 104/100_10.continuous'),\n",
       " PosixPath('/mnt/rdsf/open-ephys/2022-12-05_11-52-29/Record Node 104/100_17.continuous'),\n",
       " PosixPath('/mnt/rdsf/open-ephys/2022-12-05_11-52-29/Record Node 104/100_13.continuous'),\n",
       " PosixPath('/mnt/rdsf/open-ephys/2022-12-05_11-52-29/Record Node 104/100_9.continuous'),\n",
       " PosixPath('/mnt/rdsf/open-ephys/2022-12-05_11-52-29/Record Node 104/100_15.continuous'),\n",
       " PosixPath('/mnt/rdsf/open-ephys/2022-12-05_11-52-29/Record Node 104/100_18.continuous'),\n",
       " PosixPath('/mnt/rdsf/open-ephys/2022-12-05_11-52-29/Record Node 104/all_channels.events'),\n",
       " PosixPath('/mnt/rdsf/open-ephys/2022-12-05_11-52-29/Record Node 104/100_5.continuous'),\n",
       " PosixPath('/mnt/rdsf/open-ephys/2022-12-05_11-52-29/Record Node 104/100_22.continuous'),\n",
       " PosixPath('/mnt/rdsf/open-ephys/2022-12-05_11-52-29/Record Node 104/messages.events'),\n",
       " PosixPath('/mnt/rdsf/open-ephys/2022-12-05_11-52-29/Record Node 104/100_7.continuous'),\n",
       " PosixPath('/mnt/rdsf/open-ephys/2022-12-05_11-52-29/Record Node 104/Continuous_Data.openephys'),\n",
       " PosixPath('/mnt/rdsf/open-ephys/2022-12-05_11-52-29/Record Node 104/100_21.continuous'),\n",
       " PosixPath('/mnt/rdsf/open-ephys/2022-12-05_11-52-29/Record Node 104/100_6.continuous'),\n",
       " PosixPath('/mnt/rdsf/open-ephys/2022-12-05_11-52-29/Record Node 104/.DS_Store'),\n",
       " PosixPath('/mnt/rdsf/open-ephys/2022-12-05_11-52-29/Record Node 104/100_1.continuous'),\n",
       " PosixPath('/mnt/rdsf/open-ephys/2022-12-05_11-52-29/Record Node 104/100_14.continuous'),\n",
       " PosixPath('/mnt/rdsf/open-ephys/2022-12-05_11-52-29/Record Node 104/100_16.continuous'),\n",
       " PosixPath('/mnt/rdsf/open-ephys/2022-12-05_11-52-29/Record Node 104/100_23.continuous'),\n",
       " PosixPath('/mnt/rdsf/open-ephys/2022-12-05_11-52-29/Record Node 104/100_8.continuous'),\n",
       " PosixPath('/mnt/rdsf/open-ephys/2022-12-05_11-52-29/Record Node 104/100_2.continuous'),\n",
       " PosixPath('/mnt/rdsf/open-ephys/2022-12-05_11-52-29/Record Node 104/100_11.continuous'),\n",
       " PosixPath('/mnt/rdsf/open-ephys/2022-12-05_11-52-29/Record Node 104/100_3.continuous'),\n",
       " PosixPath('/mnt/rdsf/open-ephys/2022-12-05_11-52-29/Record Node 104/100_12.continuous')]"
      ]
     },
     "execution_count": 41,
     "metadata": {},
     "output_type": "execute_result"
    }
   ],
   "source": [
    "node_folder =fol/\"Record Node 104\"\n",
    "list(node_folder.glob(\"*\"))"
   ]
  },
  {
   "cell_type": "code",
   "execution_count": 43,
   "metadata": {},
   "outputs": [
    {
     "name": "stderr",
     "output_type": "stream",
     "text": [
      "WARNING:root:did not parse log line: Processor: Rhythm FPGA Id: 100 subProcessor: 0 start time: 34383104@30000Hz\n",
      "WARNING:root:did not parse log line: Processor: Rhythm FPGA Id: 100 subProcessor: 0 start time: 196450816@30000Hz\n"
     ]
    }
   ],
   "source": [
    "test = process_folder(node_folder,2)"
   ]
  },
  {
   "cell_type": "code",
   "execution_count": 45,
   "metadata": {},
   "outputs": [
    {
     "data": {
      "text/plain": [
       "1178"
      ]
     },
     "execution_count": 45,
     "metadata": {},
     "output_type": "execute_result"
    }
   ],
   "source": [
    "len(test.events[1])"
   ]
  },
  {
   "cell_type": "code",
   "execution_count": 46,
   "metadata": {},
   "outputs": [
    {
     "data": {
      "text/plain": [
       "Segment with 4 analogsignals, 7 events\n",
       "# analogsignals (N=4)\n",
       "0: AnalogSignal with 1 channels of length 108230656; units (1/0.195 *uV); datatype >i2 \n",
       "   name: 'rd.0'\n",
       "   description: 'microneurography probe'\n",
       "   annotations: {'type_id': 'AS'}\n",
       "   sampling rate: 30000.0 Hz\n",
       "   time: 1146.1034666666667 s to 4753.792 s\n",
       "1: AnalogSignal with 1 channels of length 108230656; units (1/0.195 *uV); datatype float64 \n",
       "   name: 'rd.0.bp'\n",
       "   description: 'microneurography probe\\n bandpass 100-7000Hz'\n",
       "   annotations: {'type_id': 'AS'}\n",
       "   sampling rate: 30000.0 Hz\n",
       "   time: 1146.1034666666667 s to 4753.792 s\n",
       "2: AnalogSignal with 1 channels of length 108230656; units (1/0.000152588 *uV); datatype >i2 \n",
       "   name: 'env.stim'\n",
       "   description: 'A TTL of the stimulation'\n",
       "   annotations: {'type_id': 'AS'}\n",
       "   sampling rate: 30000.0 Hz\n",
       "   time: 1146.1034666666667 s to 4753.792 s\n",
       "3: AnalogSignal with 1 channels of length 108230656; units (1/0.000152588 *uV); datatype >i2 \n",
       "   name: 'env.thermode'\n",
       "   description: 'Thermal stimulation temperatures'\n",
       "   annotations: {'type_id': 'AS'}\n",
       "   sampling rate: 30000.0 Hz\n",
       "   time: 1146.1034666666667 s to 4753.792 s"
      ]
     },
     "execution_count": 46,
     "metadata": {},
     "output_type": "execute_result"
    }
   ],
   "source": [
    "test"
   ]
  },
  {
   "cell_type": "code",
   "execution_count": 47,
   "metadata": {},
   "outputs": [],
   "source": [
    "blk = Block()\n",
    "#test2 = deepcopy(test)\n",
    "#test2.analogsignals = [x.rescale(\"mV\") for x in test.analogsignals]\n",
    "blk.segments.append(test)\n",
    "n = NixIO(fol/(fol.stem+\".h5\"), mode=\"rw\")\n",
    "n.write_block(blk)\n",
    "n.close()"
   ]
  },
  {
   "cell_type": "code",
   "execution_count": 33,
   "metadata": {},
   "outputs": [
    {
     "name": "stdout",
     "output_type": "stream",
     "text": [
      "/mnt/rdsf/open-ephys/2022-04-06_14-02-33/2022-04-06_14-02-33.h5\n"
     ]
    }
   ],
   "source": [
    "print(fol/(fol.stem+\".h5\"))"
   ]
  },
  {
   "attachments": {},
   "cell_type": "markdown",
   "metadata": {},
   "source": [
    "no events file in this one. but recording 2 has some data"
   ]
  },
  {
   "attachments": {},
   "cell_type": "markdown",
   "metadata": {},
   "source": [
    "# /mnt/rdsf/open-ephys/2022-07-12_12-52-05"
   ]
  },
  {
   "cell_type": "code",
   "execution_count": 36,
   "metadata": {},
   "outputs": [
    {
     "data": {
      "text/plain": [
       "[PosixPath('/mnt/rdsf/open-ephys/2022-07-12_12-52-05/Record Node 101'),\n",
       " PosixPath('/mnt/rdsf/open-ephys/2022-07-12_12-52-05/Record Node 107')]"
      ]
     },
     "execution_count": 36,
     "metadata": {},
     "output_type": "execute_result"
    }
   ],
   "source": [
    "fol = Path(\"/mnt/rdsf/open-ephys/2022-07-12_12-52-05\")\n",
    "list(fol.glob(\"*\"))"
   ]
  },
  {
   "cell_type": "code",
   "execution_count": 38,
   "metadata": {},
   "outputs": [
    {
     "data": {
      "text/plain": [
       "[PosixPath('/mnt/rdsf/open-ephys/2022-07-12_12-52-05/Record Node 101/100_CH13.continuous'),\n",
       " PosixPath('/mnt/rdsf/open-ephys/2022-07-12_12-52-05/Record Node 101/100_CH14_3.continuous'),\n",
       " PosixPath('/mnt/rdsf/open-ephys/2022-07-12_12-52-05/Record Node 101/settings_2.xml'),\n",
       " PosixPath('/mnt/rdsf/open-ephys/2022-07-12_12-52-05/Record Node 101/100_ADC7_3.continuous'),\n",
       " PosixPath('/mnt/rdsf/open-ephys/2022-07-12_12-52-05/Record Node 101/100_CH14_2.continuous'),\n",
       " PosixPath('/mnt/rdsf/open-ephys/2022-07-12_12-52-05/Record Node 101/settings.xml'),\n",
       " PosixPath('/mnt/rdsf/open-ephys/2022-07-12_12-52-05/Record Node 101/100_CH1_3.continuous'),\n",
       " PosixPath('/mnt/rdsf/open-ephys/2022-07-12_12-52-05/Record Node 101/100_CH15_3.continuous'),\n",
       " PosixPath('/mnt/rdsf/open-ephys/2022-07-12_12-52-05/Record Node 101/100_CH10_2.continuous'),\n",
       " PosixPath('/mnt/rdsf/open-ephys/2022-07-12_12-52-05/Record Node 101/100_CH12_3.continuous'),\n",
       " PosixPath('/mnt/rdsf/open-ephys/2022-07-12_12-52-05/Record Node 101/100_ADC1.continuous'),\n",
       " PosixPath('/mnt/rdsf/open-ephys/2022-07-12_12-52-05/Record Node 101/100_CH30_3.continuous'),\n",
       " PosixPath('/mnt/rdsf/open-ephys/2022-07-12_12-52-05/Record Node 101/100_CH32_3.continuous'),\n",
       " PosixPath('/mnt/rdsf/open-ephys/2022-07-12_12-52-05/Record Node 101/100_CH29.continuous'),\n",
       " PosixPath('/mnt/rdsf/open-ephys/2022-07-12_12-52-05/Record Node 101/100_CH32.continuous'),\n",
       " PosixPath('/mnt/rdsf/open-ephys/2022-07-12_12-52-05/Record Node 101/100_ADC6_2.continuous'),\n",
       " PosixPath('/mnt/rdsf/open-ephys/2022-07-12_12-52-05/Record Node 101/100_CH18_3.continuous'),\n",
       " PosixPath('/mnt/rdsf/open-ephys/2022-07-12_12-52-05/Record Node 101/100_CH4.continuous'),\n",
       " PosixPath('/mnt/rdsf/open-ephys/2022-07-12_12-52-05/Record Node 101/100_ADC5.continuous'),\n",
       " PosixPath('/mnt/rdsf/open-ephys/2022-07-12_12-52-05/Record Node 101/100_CH1_2.continuous'),\n",
       " PosixPath('/mnt/rdsf/open-ephys/2022-07-12_12-52-05/Record Node 101/100_CH14.continuous'),\n",
       " PosixPath('/mnt/rdsf/open-ephys/2022-07-12_12-52-05/Record Node 101/100_CH2_3.continuous'),\n",
       " PosixPath('/mnt/rdsf/open-ephys/2022-07-12_12-52-05/Record Node 101/100_CH8.continuous'),\n",
       " PosixPath('/mnt/rdsf/open-ephys/2022-07-12_12-52-05/Record Node 101/100_CH9.continuous'),\n",
       " PosixPath('/mnt/rdsf/open-ephys/2022-07-12_12-52-05/Record Node 101/100_CH31_2.continuous'),\n",
       " PosixPath('/mnt/rdsf/open-ephys/2022-07-12_12-52-05/Record Node 101/100_CH16.continuous'),\n",
       " PosixPath('/mnt/rdsf/open-ephys/2022-07-12_12-52-05/Record Node 101/messages_3.events'),\n",
       " PosixPath('/mnt/rdsf/open-ephys/2022-07-12_12-52-05/Record Node 101/100_ADC2_2.continuous'),\n",
       " PosixPath('/mnt/rdsf/open-ephys/2022-07-12_12-52-05/Record Node 101/100_ADC7.continuous'),\n",
       " PosixPath('/mnt/rdsf/open-ephys/2022-07-12_12-52-05/Record Node 101/100_ADC6_3.continuous'),\n",
       " PosixPath('/mnt/rdsf/open-ephys/2022-07-12_12-52-05/Record Node 101/all_channels_2.events'),\n",
       " PosixPath('/mnt/rdsf/open-ephys/2022-07-12_12-52-05/Record Node 101/100_CH11.continuous'),\n",
       " PosixPath('/mnt/rdsf/open-ephys/2022-07-12_12-52-05/Record Node 101/all_channels_3.events'),\n",
       " PosixPath('/mnt/rdsf/open-ephys/2022-07-12_12-52-05/Record Node 101/100_CH17_2.continuous'),\n",
       " PosixPath('/mnt/rdsf/open-ephys/2022-07-12_12-52-05/Record Node 101/100_ADC2.continuous'),\n",
       " PosixPath('/mnt/rdsf/open-ephys/2022-07-12_12-52-05/Record Node 101/100_ADC4.continuous'),\n",
       " PosixPath('/mnt/rdsf/open-ephys/2022-07-12_12-52-05/Record Node 101/100_ADC5_3.continuous'),\n",
       " PosixPath('/mnt/rdsf/open-ephys/2022-07-12_12-52-05/Record Node 101/100_CH22_2.continuous'),\n",
       " PosixPath('/mnt/rdsf/open-ephys/2022-07-12_12-52-05/Record Node 101/all_channels.events'),\n",
       " PosixPath('/mnt/rdsf/open-ephys/2022-07-12_12-52-05/Record Node 101/100_CH6_3.continuous'),\n",
       " PosixPath('/mnt/rdsf/open-ephys/2022-07-12_12-52-05/Record Node 101/100_CH16_3.continuous'),\n",
       " PosixPath('/mnt/rdsf/open-ephys/2022-07-12_12-52-05/Record Node 101/100_CH22.continuous'),\n",
       " PosixPath('/mnt/rdsf/open-ephys/2022-07-12_12-52-05/Record Node 101/100_ADC1_2.continuous'),\n",
       " PosixPath('/mnt/rdsf/open-ephys/2022-07-12_12-52-05/Record Node 101/100_CH5_3.continuous'),\n",
       " PosixPath('/mnt/rdsf/open-ephys/2022-07-12_12-52-05/Record Node 101/Continuous_Data_2.openephys'),\n",
       " PosixPath('/mnt/rdsf/open-ephys/2022-07-12_12-52-05/Record Node 101/100_CH18.continuous'),\n",
       " PosixPath('/mnt/rdsf/open-ephys/2022-07-12_12-52-05/Record Node 101/100_ADC7_2.continuous'),\n",
       " PosixPath('/mnt/rdsf/open-ephys/2022-07-12_12-52-05/Record Node 101/100_CH20_2.continuous'),\n",
       " PosixPath('/mnt/rdsf/open-ephys/2022-07-12_12-52-05/Record Node 101/100_CH21_3.continuous'),\n",
       " PosixPath('/mnt/rdsf/open-ephys/2022-07-12_12-52-05/Record Node 101/100_CH26_3.continuous'),\n",
       " PosixPath('/mnt/rdsf/open-ephys/2022-07-12_12-52-05/Record Node 101/100_CH13_3.continuous'),\n",
       " PosixPath('/mnt/rdsf/open-ephys/2022-07-12_12-52-05/Record Node 101/100_ADC3_3.continuous'),\n",
       " PosixPath('/mnt/rdsf/open-ephys/2022-07-12_12-52-05/Record Node 101/100_CH23.continuous'),\n",
       " PosixPath('/mnt/rdsf/open-ephys/2022-07-12_12-52-05/Record Node 101/100_CH5.continuous'),\n",
       " PosixPath('/mnt/rdsf/open-ephys/2022-07-12_12-52-05/Record Node 101/100_CH3.continuous'),\n",
       " PosixPath('/mnt/rdsf/open-ephys/2022-07-12_12-52-05/Record Node 101/100_CH10_3.continuous'),\n",
       " PosixPath('/mnt/rdsf/open-ephys/2022-07-12_12-52-05/Record Node 101/100_CH11_2.continuous'),\n",
       " PosixPath('/mnt/rdsf/open-ephys/2022-07-12_12-52-05/Record Node 101/100_CH2_2.continuous'),\n",
       " PosixPath('/mnt/rdsf/open-ephys/2022-07-12_12-52-05/Record Node 101/100_ADC5_2.continuous'),\n",
       " PosixPath('/mnt/rdsf/open-ephys/2022-07-12_12-52-05/Record Node 101/100_CH2.continuous'),\n",
       " PosixPath('/mnt/rdsf/open-ephys/2022-07-12_12-52-05/Record Node 101/messages.events'),\n",
       " PosixPath('/mnt/rdsf/open-ephys/2022-07-12_12-52-05/Record Node 101/100_CH21.continuous'),\n",
       " PosixPath('/mnt/rdsf/open-ephys/2022-07-12_12-52-05/Record Node 101/settings_3.xml'),\n",
       " PosixPath('/mnt/rdsf/open-ephys/2022-07-12_12-52-05/Record Node 101/100_CH28_2.continuous'),\n",
       " PosixPath('/mnt/rdsf/open-ephys/2022-07-12_12-52-05/Record Node 101/100_CH15.continuous'),\n",
       " PosixPath('/mnt/rdsf/open-ephys/2022-07-12_12-52-05/Record Node 101/100_CH25_3.continuous'),\n",
       " PosixPath('/mnt/rdsf/open-ephys/2022-07-12_12-52-05/Record Node 101/Continuous_Data.openephys'),\n",
       " PosixPath('/mnt/rdsf/open-ephys/2022-07-12_12-52-05/Record Node 101/100_CH4_2.continuous'),\n",
       " PosixPath('/mnt/rdsf/open-ephys/2022-07-12_12-52-05/Record Node 101/100_CH6_2.continuous'),\n",
       " PosixPath('/mnt/rdsf/open-ephys/2022-07-12_12-52-05/Record Node 101/100_CH16_2.continuous'),\n",
       " PosixPath('/mnt/rdsf/open-ephys/2022-07-12_12-52-05/Record Node 101/100_ADC4_3.continuous'),\n",
       " PosixPath('/mnt/rdsf/open-ephys/2022-07-12_12-52-05/Record Node 101/100_CH8_2.continuous'),\n",
       " PosixPath('/mnt/rdsf/open-ephys/2022-07-12_12-52-05/Record Node 101/100_CH25.continuous'),\n",
       " PosixPath('/mnt/rdsf/open-ephys/2022-07-12_12-52-05/Record Node 101/100_CH23_3.continuous'),\n",
       " PosixPath('/mnt/rdsf/open-ephys/2022-07-12_12-52-05/Record Node 101/100_CH27.continuous'),\n",
       " PosixPath('/mnt/rdsf/open-ephys/2022-07-12_12-52-05/Record Node 101/100_CH18_2.continuous'),\n",
       " PosixPath('/mnt/rdsf/open-ephys/2022-07-12_12-52-05/Record Node 101/100_ADC4_2.continuous'),\n",
       " PosixPath('/mnt/rdsf/open-ephys/2022-07-12_12-52-05/Record Node 101/100_CH19_2.continuous'),\n",
       " PosixPath('/mnt/rdsf/open-ephys/2022-07-12_12-52-05/Record Node 101/100_CH3_2.continuous'),\n",
       " PosixPath('/mnt/rdsf/open-ephys/2022-07-12_12-52-05/Record Node 101/100_CH7_3.continuous'),\n",
       " PosixPath('/mnt/rdsf/open-ephys/2022-07-12_12-52-05/Record Node 101/100_CH12_2.continuous'),\n",
       " PosixPath('/mnt/rdsf/open-ephys/2022-07-12_12-52-05/Record Node 101/100_CH9_2.continuous'),\n",
       " PosixPath('/mnt/rdsf/open-ephys/2022-07-12_12-52-05/Record Node 101/100_CH32_2.continuous'),\n",
       " PosixPath('/mnt/rdsf/open-ephys/2022-07-12_12-52-05/Record Node 101/100_CH23_2.continuous'),\n",
       " PosixPath('/mnt/rdsf/open-ephys/2022-07-12_12-52-05/Record Node 101/100_CH24_2.continuous'),\n",
       " PosixPath('/mnt/rdsf/open-ephys/2022-07-12_12-52-05/Record Node 101/100_CH30_2.continuous'),\n",
       " PosixPath('/mnt/rdsf/open-ephys/2022-07-12_12-52-05/Record Node 101/100_ADC8.continuous'),\n",
       " PosixPath('/mnt/rdsf/open-ephys/2022-07-12_12-52-05/Record Node 101/100_CH7_2.continuous'),\n",
       " PosixPath('/mnt/rdsf/open-ephys/2022-07-12_12-52-05/Record Node 101/100_CH29_3.continuous'),\n",
       " PosixPath('/mnt/rdsf/open-ephys/2022-07-12_12-52-05/Record Node 101/100_CH17_3.continuous'),\n",
       " PosixPath('/mnt/rdsf/open-ephys/2022-07-12_12-52-05/Record Node 101/100_CH21_2.continuous'),\n",
       " PosixPath('/mnt/rdsf/open-ephys/2022-07-12_12-52-05/Record Node 101/100_CH19.continuous'),\n",
       " PosixPath('/mnt/rdsf/open-ephys/2022-07-12_12-52-05/Record Node 101/100_CH28.continuous'),\n",
       " PosixPath('/mnt/rdsf/open-ephys/2022-07-12_12-52-05/Record Node 101/100_CH25_2.continuous'),\n",
       " PosixPath('/mnt/rdsf/open-ephys/2022-07-12_12-52-05/Record Node 101/100_CH8_3.continuous'),\n",
       " PosixPath('/mnt/rdsf/open-ephys/2022-07-12_12-52-05/Record Node 101/100_CH5_2.continuous'),\n",
       " PosixPath('/mnt/rdsf/open-ephys/2022-07-12_12-52-05/Record Node 101/100_CH20_3.continuous'),\n",
       " PosixPath('/mnt/rdsf/open-ephys/2022-07-12_12-52-05/Record Node 101/100_CH1.continuous'),\n",
       " PosixPath('/mnt/rdsf/open-ephys/2022-07-12_12-52-05/Record Node 101/100_CH24_3.continuous'),\n",
       " PosixPath('/mnt/rdsf/open-ephys/2022-07-12_12-52-05/Record Node 101/100_CH12.continuous'),\n",
       " PosixPath('/mnt/rdsf/open-ephys/2022-07-12_12-52-05/Record Node 101/100_CH6.continuous'),\n",
       " PosixPath('/mnt/rdsf/open-ephys/2022-07-12_12-52-05/Record Node 101/100_CH31_3.continuous'),\n",
       " PosixPath('/mnt/rdsf/open-ephys/2022-07-12_12-52-05/Record Node 101/100_CH31.continuous'),\n",
       " PosixPath('/mnt/rdsf/open-ephys/2022-07-12_12-52-05/Record Node 101/100_CH19_3.continuous'),\n",
       " PosixPath('/mnt/rdsf/open-ephys/2022-07-12_12-52-05/Record Node 101/100_CH9_3.continuous'),\n",
       " PosixPath('/mnt/rdsf/open-ephys/2022-07-12_12-52-05/Record Node 101/100_CH30.continuous'),\n",
       " PosixPath('/mnt/rdsf/open-ephys/2022-07-12_12-52-05/Record Node 101/100_ADC2_3.continuous'),\n",
       " PosixPath('/mnt/rdsf/open-ephys/2022-07-12_12-52-05/Record Node 101/100_CH27_3.continuous'),\n",
       " PosixPath('/mnt/rdsf/open-ephys/2022-07-12_12-52-05/Record Node 101/100_CH28_3.continuous'),\n",
       " PosixPath('/mnt/rdsf/open-ephys/2022-07-12_12-52-05/Record Node 101/Continuous_Data_3.openephys'),\n",
       " PosixPath('/mnt/rdsf/open-ephys/2022-07-12_12-52-05/Record Node 101/100_CH15_2.continuous'),\n",
       " PosixPath('/mnt/rdsf/open-ephys/2022-07-12_12-52-05/Record Node 101/100_ADC3_2.continuous'),\n",
       " PosixPath('/mnt/rdsf/open-ephys/2022-07-12_12-52-05/Record Node 101/100_ADC3.continuous'),\n",
       " PosixPath('/mnt/rdsf/open-ephys/2022-07-12_12-52-05/Record Node 101/messages_2.events'),\n",
       " PosixPath('/mnt/rdsf/open-ephys/2022-07-12_12-52-05/Record Node 101/100_CH26_2.continuous'),\n",
       " PosixPath('/mnt/rdsf/open-ephys/2022-07-12_12-52-05/Record Node 101/100_CH4_3.continuous'),\n",
       " PosixPath('/mnt/rdsf/open-ephys/2022-07-12_12-52-05/Record Node 101/100_CH17.continuous'),\n",
       " PosixPath('/mnt/rdsf/open-ephys/2022-07-12_12-52-05/Record Node 101/100_CH13_2.continuous'),\n",
       " PosixPath('/mnt/rdsf/open-ephys/2022-07-12_12-52-05/Record Node 101/100_ADC1_3.continuous'),\n",
       " PosixPath('/mnt/rdsf/open-ephys/2022-07-12_12-52-05/Record Node 101/100_CH26.continuous'),\n",
       " PosixPath('/mnt/rdsf/open-ephys/2022-07-12_12-52-05/Record Node 101/100_CH7.continuous'),\n",
       " PosixPath('/mnt/rdsf/open-ephys/2022-07-12_12-52-05/Record Node 101/100_ADC6.continuous'),\n",
       " PosixPath('/mnt/rdsf/open-ephys/2022-07-12_12-52-05/Record Node 101/100_CH20.continuous'),\n",
       " PosixPath('/mnt/rdsf/open-ephys/2022-07-12_12-52-05/Record Node 101/100_CH3_3.continuous'),\n",
       " PosixPath('/mnt/rdsf/open-ephys/2022-07-12_12-52-05/Record Node 101/100_CH24.continuous'),\n",
       " PosixPath('/mnt/rdsf/open-ephys/2022-07-12_12-52-05/Record Node 101/100_ADC8_2.continuous'),\n",
       " PosixPath('/mnt/rdsf/open-ephys/2022-07-12_12-52-05/Record Node 101/100_CH11_3.continuous'),\n",
       " PosixPath('/mnt/rdsf/open-ephys/2022-07-12_12-52-05/Record Node 101/100_CH22_3.continuous'),\n",
       " PosixPath('/mnt/rdsf/open-ephys/2022-07-12_12-52-05/Record Node 101/100_CH27_2.continuous'),\n",
       " PosixPath('/mnt/rdsf/open-ephys/2022-07-12_12-52-05/Record Node 101/100_ADC8_3.continuous'),\n",
       " PosixPath('/mnt/rdsf/open-ephys/2022-07-12_12-52-05/Record Node 101/100_CH10.continuous'),\n",
       " PosixPath('/mnt/rdsf/open-ephys/2022-07-12_12-52-05/Record Node 101/100_CH29_2.continuous')]"
      ]
     },
     "execution_count": 38,
     "metadata": {},
     "output_type": "execute_result"
    }
   ],
   "source": [
    "node_folder =fol/\"Record Node 101\"\n",
    "list(node_folder.glob(\"*\"))"
   ]
  },
  {
   "cell_type": "markdown",
   "metadata": {},
   "source": []
  }
 ],
 "metadata": {
  "kernelspec": {
   "display_name": "spikespy-xY-2KJj--py3.10",
   "language": "python",
   "name": "python3"
  },
  "language_info": {
   "codemirror_mode": {
    "name": "ipython",
    "version": 3
   },
   "file_extension": ".py",
   "mimetype": "text/x-python",
   "name": "python",
   "nbconvert_exporter": "python",
   "pygments_lexer": "ipython3",
   "version": "3.9.0"
  },
  "orig_nbformat": 4,
  "vscode": {
   "interpreter": {
    "hash": "fb81fb0090cdad04fe375dc8de560796930e7daf9138264bf6a4398d54e26413"
   }
  }
 },
 "nbformat": 4,
 "nbformat_minor": 2
}
